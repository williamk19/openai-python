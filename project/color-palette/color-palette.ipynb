{
 "cells": [
  {
   "cell_type": "code",
   "execution_count": 92,
   "metadata": {},
   "outputs": [],
   "source": [
    "from openai import OpenAI\n",
    "from dotenv import dotenv_values\n",
    "\n",
    "client = OpenAI()\n",
    "client.api_key = dotenv_values(\"../../.env\")[\"OPENAI_API_KEY\"]"
   ]
  },
  {
   "cell_type": "code",
   "execution_count": 97,
   "metadata": {},
   "outputs": [],
   "source": [
    "def generate_color_palette(user_prompt: str) -> str:\n",
    "\tprompt = f\"\"\"\n",
    "\t\tYou are a color palette generator that generates color palettes based on the user prompt for color palettes. colors generated should fit the theme, mood, or instruction from users prompt. The palettes should be between 3 to 7 colors.\n",
    "\n",
    "\t\tPropmt: Generate me color palettes that has Earthy & Soft Tones\n",
    "\t\tAnswer: [\"#9CBD94\", \"#587750\", \"#7C5989\", \"#BB75AD\", \"#6CADA7\"]\n",
    "\n",
    "\t\tDesired Output: JSON Array of hex colors.\n",
    "\t\tText: ${user_prompt}\n",
    "\t\tResult:\n",
    "\t\t\"\"\"\n",
    "\n",
    "\tresponse = client.completions.create(\n",
    "\t\tprompt=prompt,\n",
    "\t\tmodel=\"gpt-3.5-turbo-instruct\",\n",
    "\t\tmax_tokens=200,\n",
    "\t)\n",
    "\n",
    "\tcolors = response.choices[0].text\n",
    "\treturn colors\n"
   ]
  },
  {
   "cell_type": "code",
   "execution_count": 94,
   "metadata": {},
   "outputs": [],
   "source": [
    "from IPython.display import Markdown, display\n",
    "import json\n",
    "\n",
    "def display_colors(colors):\n",
    "\tfor color in colors:\n",
    "\t\tdisplay(Markdown(f\"<span style='background-color:{color}; padding: 10px; color: white;'>{color}</span>\"))"
   ]
  },
  {
   "cell_type": "code",
   "execution_count": 100,
   "metadata": {},
   "outputs": [
    {
     "data": {
      "text/markdown": [
       "<span style='background-color:#DA291C; padding: 10px; color: white;'>#DA291C</span>"
      ],
      "text/plain": [
       "<IPython.core.display.Markdown object>"
      ]
     },
     "metadata": {},
     "output_type": "display_data"
    },
    {
     "data": {
      "text/markdown": [
       "<span style='background-color:#FFFFFF; padding: 10px; color: white;'>#FFFFFF</span>"
      ],
      "text/plain": [
       "<IPython.core.display.Markdown object>"
      ]
     },
     "metadata": {},
     "output_type": "display_data"
    },
    {
     "data": {
      "text/markdown": [
       "<span style='background-color:#000000; padding: 10px; color: white;'>#000000</span>"
      ],
      "text/plain": [
       "<IPython.core.display.Markdown object>"
      ]
     },
     "metadata": {},
     "output_type": "display_data"
    },
    {
     "data": {
      "text/markdown": [
       "<span style='background-color:#FFB71B; padding: 10px; color: white;'>#FFB71B</span>"
      ],
      "text/plain": [
       "<IPython.core.display.Markdown object>"
      ]
     },
     "metadata": {},
     "output_type": "display_data"
    },
    {
     "data": {
      "text/markdown": [
       "<span style='background-color:#C4CED4; padding: 10px; color: white;'>#C4CED4</span>"
      ],
      "text/plain": [
       "<IPython.core.display.Markdown object>"
      ]
     },
     "metadata": {},
     "output_type": "display_data"
    }
   ],
   "source": [
    "display_colors(json.loads(generate_color_palette(\"Manchester united team color\")))"
   ]
  },
  {
   "cell_type": "code",
   "execution_count": 99,
   "metadata": {},
   "outputs": [
    {
     "data": {
      "text/markdown": [
       "<span style='background-color:#4285F4; padding: 10px; color: white;'>#4285F4</span>"
      ],
      "text/plain": [
       "<IPython.core.display.Markdown object>"
      ]
     },
     "metadata": {},
     "output_type": "display_data"
    },
    {
     "data": {
      "text/markdown": [
       "<span style='background-color:#EA4335; padding: 10px; color: white;'>#EA4335</span>"
      ],
      "text/plain": [
       "<IPython.core.display.Markdown object>"
      ]
     },
     "metadata": {},
     "output_type": "display_data"
    },
    {
     "data": {
      "text/markdown": [
       "<span style='background-color:#FBC02D; padding: 10px; color: white;'>#FBC02D</span>"
      ],
      "text/plain": [
       "<IPython.core.display.Markdown object>"
      ]
     },
     "metadata": {},
     "output_type": "display_data"
    },
    {
     "data": {
      "text/markdown": [
       "<span style='background-color:#34A853; padding: 10px; color: white;'>#34A853</span>"
      ],
      "text/plain": [
       "<IPython.core.display.Markdown object>"
      ]
     },
     "metadata": {},
     "output_type": "display_data"
    }
   ],
   "source": [
    "display_colors(json.loads(generate_color_palette(\"4 Google Brand Colors\")))"
   ]
  }
 ],
 "metadata": {
  "kernelspec": {
   "display_name": "openai-python-SwPzkeLZ-py3.12",
   "language": "python",
   "name": "python3"
  },
  "language_info": {
   "codemirror_mode": {
    "name": "ipython",
    "version": 3
   },
   "file_extension": ".py",
   "mimetype": "text/x-python",
   "name": "python",
   "nbconvert_exporter": "python",
   "pygments_lexer": "ipython3",
   "version": "3.12.3"
  }
 },
 "nbformat": 4,
 "nbformat_minor": 2
}
