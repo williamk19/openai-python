{
 "cells": [
  {
   "cell_type": "code",
   "execution_count": 1,
   "metadata": {},
   "outputs": [],
   "source": [
    "from openai import OpenAI\n",
    "from dotenv import dotenv_values\n",
    "from openai import OpenAI\n",
    "\n",
    "client = OpenAI()\n",
    "client.api_key = dotenv_values(\"../../.env\")[\"OPENAI_API_KEY\"]"
   ]
  },
  {
   "cell_type": "code",
   "execution_count": 7,
   "metadata": {},
   "outputs": [],
   "source": [
    "def generate_color_palette(user_prompt: str) -> str:\n",
    "\tsystem_text = f\"\"\"\n",
    "\t\tYou are a color palette generator that generates color palettes based on the user prompt for color palettes. colors generated should fit the theme, mood, or instruction from users prompt. The palettes should be between 3 to 7 colors. Desired Output are in JSON Array of hex colors only and no additional text like example below.\n",
    "\n",
    "\t\tPropmt: Generate me color palettes that has Earthy & Soft Tones\n",
    "\t\tAnswer: [\"#9CBD94\", \"#587750\", \"#7C5989\", \"#BB75AD\", \"#6CADA7\"]\n",
    "\n",
    "\t\tText: ${user_prompt}\n",
    "\t\tResult:\n",
    "\t\"\"\"\n",
    "\n",
    "\tmessages = [\n",
    "\t\t{\n",
    "\t\t\t\"role\": \"system\",\n",
    "\t\t\t\"content\": system_text\n",
    "\t\t},\n",
    "\t\t{\n",
    "\t\t\t\"role\": \"user\",\n",
    "\t\t\t\"content\": user_prompt\n",
    "\t\t}\n",
    "\t]\n",
    "\n",
    "\tresponse = client.chat.completions.create(\n",
    "\t\tmodel=\"gpt-3.5-turbo\",\n",
    "\t\tmessages=messages,\n",
    "\t\tmax_tokens=200,\n",
    "\t)\n",
    "\n",
    "\tcolors = response.choices[0].message.content\n",
    "\treturn colors\n"
   ]
  },
  {
   "cell_type": "code",
   "execution_count": 8,
   "metadata": {},
   "outputs": [],
   "source": [
    "from IPython.display import Markdown, display\n",
    "import json\n",
    "\n",
    "def display_colors(colors):\n",
    "\tfor color in colors:\n",
    "\t\tdisplay(Markdown(f\"<div style='background-color:{color}; width:100px; padding: 20px; color: white;'>{color}</div>\"))"
   ]
  },
  {
   "cell_type": "code",
   "execution_count": 14,
   "metadata": {},
   "outputs": [
    {
     "data": {
      "text/markdown": [
       "<div style='background-color:#E8C3C1; width:100px; padding: 20px; color: white;'>#E8C3C1</div>"
      ],
      "text/plain": [
       "<IPython.core.display.Markdown object>"
      ]
     },
     "metadata": {},
     "output_type": "display_data"
    },
    {
     "data": {
      "text/markdown": [
       "<div style='background-color:#B5A7A4; width:100px; padding: 20px; color: white;'>#B5A7A4</div>"
      ],
      "text/plain": [
       "<IPython.core.display.Markdown object>"
      ]
     },
     "metadata": {},
     "output_type": "display_data"
    },
    {
     "data": {
      "text/markdown": [
       "<div style='background-color:#7F7C87; width:100px; padding: 20px; color: white;'>#7F7C87</div>"
      ],
      "text/plain": [
       "<IPython.core.display.Markdown object>"
      ]
     },
     "metadata": {},
     "output_type": "display_data"
    },
    {
     "data": {
      "text/markdown": [
       "<div style='background-color:#565264; width:100px; padding: 20px; color: white;'>#565264</div>"
      ],
      "text/plain": [
       "<IPython.core.display.Markdown object>"
      ]
     },
     "metadata": {},
     "output_type": "display_data"
    },
    {
     "data": {
      "text/markdown": [
       "<div style='background-color:#302C2E; width:100px; padding: 20px; color: white;'>#302C2E</div>"
      ],
      "text/plain": [
       "<IPython.core.display.Markdown object>"
      ]
     },
     "metadata": {},
     "output_type": "display_data"
    }
   ],
   "source": [
    "display_colors(json.loads(generate_color_palette(\"lofi chill color pallette\")))"
   ]
  },
  {
   "cell_type": "code",
   "execution_count": 10,
   "metadata": {},
   "outputs": [
    {
     "data": {
      "text/markdown": [
       "<div style='background-color:#4285F4; width:100px; padding: 20px; color: white;'>#4285F4</div>"
      ],
      "text/plain": [
       "<IPython.core.display.Markdown object>"
      ]
     },
     "metadata": {},
     "output_type": "display_data"
    },
    {
     "data": {
      "text/markdown": [
       "<div style='background-color:#34A853; width:100px; padding: 20px; color: white;'>#34A853</div>"
      ],
      "text/plain": [
       "<IPython.core.display.Markdown object>"
      ]
     },
     "metadata": {},
     "output_type": "display_data"
    },
    {
     "data": {
      "text/markdown": [
       "<div style='background-color:#FFBB00; width:100px; padding: 20px; color: white;'>#FFBB00</div>"
      ],
      "text/plain": [
       "<IPython.core.display.Markdown object>"
      ]
     },
     "metadata": {},
     "output_type": "display_data"
    },
    {
     "data": {
      "text/markdown": [
       "<div style='background-color:#EA4335; width:100px; padding: 20px; color: white;'>#EA4335</div>"
      ],
      "text/plain": [
       "<IPython.core.display.Markdown object>"
      ]
     },
     "metadata": {},
     "output_type": "display_data"
    }
   ],
   "source": [
    "display_colors(json.loads(generate_color_palette(\"Google Brand Colors\")))"
   ]
  }
 ],
 "metadata": {
  "kernelspec": {
   "display_name": "openai-python-SwPzkeLZ-py3.12",
   "language": "python",
   "name": "python3"
  },
  "language_info": {
   "codemirror_mode": {
    "name": "ipython",
    "version": 3
   },
   "file_extension": ".py",
   "mimetype": "text/x-python",
   "name": "python",
   "nbconvert_exporter": "python",
   "pygments_lexer": "ipython3",
   "version": "3.12.3"
  }
 },
 "nbformat": 4,
 "nbformat_minor": 2
}
